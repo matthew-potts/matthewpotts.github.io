{
 "cells": [
  {
   "cell_type": "markdown",
   "id": "b8719ea1",
   "metadata": {},
   "source": [
    "### The U.S. Dollar during the Global Financial Crisis 2007-08 - Global Safe Asset?\n",
    "<small>*24 September 2025*</small>"
   ]
  },
  {
   "cell_type": "markdown",
   "id": "d7c77087",
   "metadata": {},
   "source": [
    "A recent article by [article by Brad Setser](https://www.cfr.org/article/foreign-money-flowed-out-us-not-during-global-financial-crisis) highlighted an interesting misconception about the behaviour of the dollar during the Global Financial Crisis 2007-08: namely, that the dollar rallied because of a flight-to-safety of foreign capital from abroad, in turn reflecting the dollar's status at this time reflects its position as a global reserve currency. In fact, \"a careful fact check would show that capital from abroad—unambiguously—flowed out of the U.S. market in late 2008.\" "
   ]
  },
  {
   "cell_type": "markdown",
   "id": "e6e54ec0",
   "metadata": {},
   "source": [
    "Setser's argument can be illustrated using my [getBISy Python package](https://pypi.org/project/getBISy/), which hooks into datasets in the [BIS Data Portal](https://data.bis.org/).\n",
    "\n",
    "In contrast to the prevailing narrative, foreign holdings of total U.S. Debt Securities massively fell off from 2007 Q2 - 2008 Q4."
   ]
  },
  {
   "cell_type": "code",
   "execution_count": null,
   "id": "b433d43c",
   "metadata": {
    "tags": [
     "hide-input"
    ]
   },
   "outputs": [],
   "source": [
    "import getBISy.data as data\n",
    "import getBISy.enums as enums\n",
    "\n",
    "df = data.get_debt_securities_data(\n",
    "        freq='Q',\n",
    "    reference_area=enums.Region.US,\n",
    "    counterparty_area=enums.Region.CrossBorder,\n",
    "    reporting_sector=enums.Sector.TotalEconomy,\n",
    "    counterparty_sector=enums.Sector.TotalEconomy,\n",
    "    accounting_entry=enums.AccountingEntry.Liabilities,\n",
    "    transaction_type=enums.TransactionType.Flows,\n",
    "    instrument=enums.DebtInstrumentType.All,\n",
    "    maturity=enums.Maturity.Total,\n",
    "    unit_of_measure=enums.UnitOfMeasure.USD,\n",
    "    currency_denomination=enums.CurrencyDenomination.All,\n",
    "    valuation_method=enums.ValuationMethod.MarketValue\n",
    ")"
   ]
  },
  {
   "cell_type": "markdown",
   "id": "d7c27c6a",
   "metadata": {},
   "source": [
    "![figure1](figure1.png)\n",
    "\n",
    "Yet at the same time, U.S. resident holdings of foreign securities also collapsed during this period. A 'flight-to-safety' did occur; but it was U.S. capital, previously employed abroad, coming home, with a corresponding sell-off of foreign assets."
   ]
  },
  {
   "cell_type": "code",
   "execution_count": null,
   "id": "6f406a75",
   "metadata": {
    "tags": [
     "hide-input"
    ]
   },
   "outputs": [],
   "source": [
    "import getBISy.data as data\n",
    "import getBISy.enums as enums\n",
    "\n",
    "df = data.get_debt_securities_data(\n",
    "        freq='Q',\n",
    "    reference_area=enums.Region.US,\n",
    "    counterparty_area=enums.Region.CrossBorder,\n",
    "    reporting_sector=enums.Sector.FinancialSector,\n",
    "    counterparty_sector=enums.Sector.TotalEconomy,\n",
    "    accounting_entry=enums.AccountingEntry.Assets,\n",
    "    transaction_type=enums.TransactionType.Flows,\n",
    "    instrument=enums.DebtInstrumentType.All,\n",
    "    maturity=enums.Maturity.Total,\n",
    "    unit_of_measure=enums.UnitOfMeasure.USD,\n",
    "    currency_denomination=enums.CurrencyDenomination.All,\n",
    "    valuation_method=enums.ValuationMethod.MarketValue\n",
    ")"
   ]
  },
  {
   "cell_type": "markdown",
   "id": "b78629b3",
   "metadata": {},
   "source": [
    "![figure2](figure2.png)"
   ]
  },
  {
   "cell_type": "markdown",
   "id": "9d8aa35b",
   "metadata": {},
   "source": [
    "What did rally, was not the U.S. dollar as a general, global currency, but a specific U.S. asset; U.S. government debt. And contrast this with the behaviour of Financial Corporation debt, which fell off."
   ]
  },
  {
   "cell_type": "code",
   "execution_count": null,
   "id": "8c13f17e",
   "metadata": {
    "tags": [
     "hide-input"
    ]
   },
   "outputs": [],
   "source": [
    "import getBISy.data as data\n",
    "import getBISy.enums as enums\n",
    "\n",
    "df_govt = data.get_debt_securities_data(\n",
    "    freq='Q',\n",
    "    reference_area=enums.Region.US,\n",
    "    counterparty_area=enums.Region.CrossBorder,\n",
    "    reporting_sector=enums.Sector.GeneralGovernment,\n",
    "    counterparty_sector=enums.Sector.TotalEconomy,\n",
    "    accounting_entry=enums.AccountingEntry.Liabilities,\n",
    "    transaction_type=enums.TransactionType.Stocks,\n",
    "    instrument=enums.DebtInstrumentType.All,\n",
    "    maturity=enums.Maturity.Total,\n",
    "    unit_of_measure=enums.UnitOfMeasure.USD,\n",
    "    currency_denomination=enums.CurrencyDenomination.All,\n",
    "    valuation_method=enums.ValuationMethod.MarketValue\n",
    ")\n",
    "\n",
    "df_fc = data.get_debt_securities_data(\n",
    "    freq='Q',\n",
    "    reference_area=enums.Region.US,\n",
    "    counterparty_area=enums.Region.CrossBorder,\n",
    "    reporting_sector=enums.Sector.FinancialSector,\n",
    "    counterparty_sector=enums.Sector.TotalEconomy,\n",
    "    accounting_entry=enums.AccountingEntry.Liabilities,\n",
    "    transaction_type=enums.TransactionType.Stocks,\n",
    "    instrument=enums.DebtInstrumentType.All,\n",
    "    maturity=enums.Maturity.Total,\n",
    "    unit_of_measure=enums.UnitOfMeasure.USD,\n",
    "    currency_denomination=enums.CurrencyDenomination.All,\n",
    "    valuation_method=enums.ValuationMethod.MarketValue\n",
    ")"
   ]
  },
  {
   "cell_type": "markdown",
   "id": "acbb74dc",
   "metadata": {},
   "source": [
    "![figure3](figure3.png)"
   ]
  },
  {
   "cell_type": "markdown",
   "id": "5dec8287",
   "metadata": {},
   "source": [
    "OK, but how interesting is this? Foreign capital did flow out in aggregate during the GFC 2007-08, but rather than the U.S. dollar being a global reserve currency to the extent that it provides a safe haven in times of crisis, it's just a particular U.S. asset denominated in dollars - government debt - that benefits during global risk-off periods.\n",
    "\n",
    "No doubt that there was at least some 'flight-to-safety' occuring. But, as Setser points out, this does not mean the dollar as a whole reliably serves as a natural hedge in all circumstances.\n",
    "\n",
    "If the 'flight-to-safety' effect was strongest in motivating rotation into U.S. assets, then purchases of *long-term* U.S. debt would outweigh those of *short-term* debt. \n",
    "\n",
    "In fact, the opposite happened. Investors were scrambling to cover their lossmaking short USD positions by purchasing short-term U.S. debt, with the U.S. dollar having served as the funding currency for the profitable pre-crisis carry trade."
   ]
  },
  {
   "cell_type": "code",
   "execution_count": null,
   "id": "552674fd",
   "metadata": {
    "tags": [
     "hide-input"
    ]
   },
   "outputs": [],
   "source": [
    "import getBISy.data as data\n",
    "import getBISy.enums as enums\n",
    "\n",
    "df_short_term = data.get_debt_securities_data(\n",
    "    freq='Q',\n",
    "    reference_area=enums.Region.US,\n",
    "    counterparty_area=enums.Region.CrossBorder,\n",
    "    reporting_sector=enums.Sector.TotalEconomy,\n",
    "    counterparty_sector=enums.Sector.TotalEconomy,\n",
    "    accounting_entry=enums.AccountingEntry.Liabilities,\n",
    "    transaction_type=enums.TransactionType.Stocks,\n",
    "    instrument=enums.DebtInstrumentType.All,\n",
    "    maturity=enums.Maturity.ShortTermOriginal,\n",
    "    unit_of_measure=enums.UnitOfMeasure.USD,\n",
    "    currency_denomination=enums.CurrencyDenomination.All,\n",
    "    valuation_method=enums.ValuationMethod.MarketValue\n",
    ")\n",
    "\n",
    "df_long_term = data.get_debt_securities_data(\n",
    "    freq='Q',\n",
    "    reference_area=enums.Region.US,\n",
    "    counterparty_area=enums.Region.CrossBorder,\n",
    "    reporting_sector=enums.Sector.TotalEconomy,\n",
    "    counterparty_sector=enums.Sector.TotalEconomy,\n",
    "    accounting_entry=enums.AccountingEntry.Liabilities,\n",
    "    transaction_type=enums.TransactionType.Stocks,\n",
    "    instrument=enums.DebtInstrumentType.All,\n",
    "    maturity=enums.Maturity.ShortTermOriginal,\n",
    "    unit_of_measure=enums.UnitOfMeasure.USD,\n",
    "    currency_denomination=enums.CurrencyDenomination.All,\n",
    "    valuation_method=enums.ValuationMethod.MarketValue\n",
    ")"
   ]
  },
  {
   "cell_type": "markdown",
   "id": "700b5306",
   "metadata": {},
   "source": [
    "![figure4](figure4.png)"
   ]
  },
  {
   "cell_type": "markdown",
   "id": "588cddc3",
   "metadata": {},
   "source": [
    "The potentially unpleasant implication of this is that there is less reason to believe that a period of financial distress in the U.S. will be self-stabilising. The U.S. dollar rallied during the GFC 2007-08 because of investors' need to close out carry trade positions, rather than its role as a 'natural hedge'.\n",
    "\n",
    "In fact, times have changed. Interest rate differentials of various traditional carry currencies vs. USD have become increasingly more negative since 2024. The U.S. dollar has in recent times appeared much more attractive as an investment currency in the carry trade."
   ]
  },
  {
   "cell_type": "code",
   "execution_count": null,
   "id": "da9b262a",
   "metadata": {
    "tags": [
     "hide-input"
    ]
   },
   "outputs": [],
   "source": [
    "import refinitiv.data as ek\n",
    "import datetime\n",
    "\n",
    "def fetch_ir_differential(currency_code, freq='monthly'):\n",
    "    if freq == 'monthly':\n",
    "        foreign_code = f\"{currency_code}1MT=RR\"\n",
    "        us_code = \"US1MT=RRPS\"\n",
    "        interval = \"weekly\"\n",
    "    elif freq == 'yearly':\n",
    "        foreign_code = f\"{currency_code}1YT=RR\"\n",
    "        us_code = \"US1YT=RRPS\"\n",
    "        interval = \"weekly\"\n",
    "    foreign = ek.get_timeseries([foreign_code], start_date=\"2000-01-01\", end_date=datetime.datetime.now(), interval=interval, fields=[\"CLOSE\"])\n",
    "    us = ek.get_timeseries([us_code], start_date=\"2000-01-01\", end_date=datetime.datetime.now(), interval=interval, fields=[\"CLOSE\"])\n",
    "    df = foreign.join(us, lsuffix=f'_{currency_code}', rsuffix='_US')\n",
    "    df['ir_differential'] = df[f'CLOSE_{currency_code}'] - df['CLOSE_US']\n",
    "    return df\n",
    "\n",
    "# List of currency codes (already stripped)\n",
    "currency_freqs = [\n",
    "    ('SE', 'monthly'),\n",
    "    ('CA', 'monthly'),\n",
    "    ('CH', 'monthly'),\n",
    "    ('NO', 'monthly'),\n",
    "    ('AU', 'yearly'),\n",
    "    ('NZ', 'monthly'),\n",
    "    ('PL', 'monthly'),\n",
    "    ('HU', 'yearly'),\n",
    "    ('IN', 'yearly'),\n",
    "    ('MX', 'monthly')\n",
    "]\n",
    "\n",
    "ir_dfs = {}\n",
    "for code, freq in currency_freqs:\n",
    "    ir_dfs[code] = fetch_ir_differential(code, freq=freq)"
   ]
  },
  {
   "cell_type": "markdown",
   "id": "f39dda3a",
   "metadata": {},
   "source": [
    "![figure5](figure5.png)"
   ]
  },
  {
   "cell_type": "markdown",
   "id": "877d49d0",
   "metadata": {},
   "source": [
    "If these differentials persist, there is less reason to believe that the U.S. dollar will enjoy a demand motivated by the need for investors to cover their short positions to help it stabilise during the next period of financial distress.\n",
    "\n",
    "Until next time,\n",
    "\n",
    "Matt\n"
   ]
  }
 ],
 "metadata": {
  "kernelspec": {
   "display_name": "Python 3",
   "language": "python",
   "name": "python3"
  },
  "language_info": {
   "codemirror_mode": {
    "name": "ipython",
    "version": 3
   },
   "file_extension": ".py",
   "mimetype": "text/x-python",
   "name": "python",
   "nbconvert_exporter": "python",
   "pygments_lexer": "ipython3",
   "version": "3.12.0"
  }
 },
 "nbformat": 4,
 "nbformat_minor": 5
}
