{
 "cells": [
  {
   "cell_type": "markdown",
   "id": "#VSC-845e0e17",
   "metadata": {
    "language": "markdown"
   },
   "source": [
    "### The Changing Nature of Cross-Border Credit: Through the BIS API and the getBISy Package\n",
    "<small>*10 September 2025*</small>"
   ]
  },
  {
   "cell_type": "markdown",
   "id": "#VSC-809b6924",
   "metadata": {
    "language": "markdown"
   },
   "source": [
    "It is well-known that cross-border capital flows can have destabilising consequences for local and global financial systems, illustrated through histories of financial crises in the 20th- and 21st -centuries.\n",
    "\n",
    "The Asian Financial Crisis 1997-98 showed that countries running even modest fiscal and current account deficits - and no twin deficits at all, in the case of Singapore - could be destabilised by sudden capital outflows quite divorced from any perceptible fundamentals aside from a latent notion of global 'risk-appetite'.\n",
    "\n",
    "Indeed, large volumes of capital inflows, whilst arising initially from unpredictable sources, lead to self-fulfilling circles of rising asset prices and increased collateral values that fuel further borrowing and ultimately sow the seeds of a sudden reversal and a financial and currency crisis. This is at least partially the story of the Global Financial Crisis 2007-08 ('GFC').\n",
    "\n",
    "But if we suppose the term 'cross-border lending' fully describes the anatomy of cross-border funding then we might miss an important story regarding the composition of this cross-border lending: namely, the distinction between funding via cross-border bank lending ('CBL') and international debt securities ('IDS') issuance.\n",
    "\n",
    "Indeed, as BIS economists Torsten Ehlers, Bryan Hardy, and Patrick McGuire point out in an [article](https://www.bis.org/publ/qtrpdf/r_qt2503f.htm) from the first quarterly review this year, cross-border capital flows in the pre-GFC period consisted of a particularly high proportion of CBL. Now, however, IDS is increasingly replacing CBL as the primary source of cross-border funding.\n",
    "\n",
    "These points can be illustrated through using BIS data collected through a new Python package that I've just published - [getBISy](https://pypi.org/project/getBISy/)."
   ]
  },
  {
   "cell_type": "markdown",
   "id": "#VSC-a5741525",
   "metadata": {
    "language": "markdown"
   },
   "source": [
    "#### Bank Lending\n",
    "\n",
    "After a rising rapidly from the turn of the millennium to the GFC 2007-08, total global cross-border credit was essentially flat up in the following decade up to the Covid-19 Pandemic of 2020, and growth since then has in contrast to the years preceding the crisis."
   ]
  },
  {
   "cell_type": "code",
   "execution_count": null,
   "id": "code-1",
   "metadata": {
    "tags": [
     "hide-input"
    ]
   },
   "outputs": [],
   "source": [
    "import getBISy.data as data\n",
    "import getBISy.enums as enums\n",
    "\n",
    "df = data.get_global_liquidity_data(\n",
    "    freq='Q',\n",
    "    currency='TO1',\n",
    "    borrowing_country=enums.Region.LiquidityAllCountries,\n",
    "    borrowing_sector=enums.Sector.LiquidityAllSectors,\n",
    "    lending_sector=enums.Sector.Banks,\n",
    "    position_type=enums.PositionType.CrossBorderAndLocal,\n",
    "    instrument_type=enums.Instrument.All,\n",
    "    unit_of_measure=enums.UnitOfMeasure.PercentageOfGDP\n",
    ")"
   ]
  },
  {
   "cell_type": "markdown",
   "id": "#VSC-a5741525-2",
   "metadata": {
    "language": "markdown"
   },
   "source": [
    "![International claims on all sectors](AllSectorsLending.png)"
   ]
  },
  {
   "cell_type": "markdown",
   "id": "#VSC-e42803be",
   "metadata": {
    "language": "markdown"
   },
   "source": [
    "At the same time, however, there are important regional differences.\n",
    "\n",
    "Take the example of the contrasting experiences of Developing Asia and Developed Europe. Whilst being essentially flat in the period up to the GFC,  extensions of credit from local lenders to local borrowers in Developing Asia began to rise consistently following the crisis, barely being interrupted by the Covid-19 pandemic. In fact, this rise seems to be almost a mirror image of the corresponding fall in local credit in Developed Europe."
   ]
  },
  {
   "cell_type": "code",
   "execution_count": null,
   "id": "code-2",
   "metadata": {
    "tags": [
     "hide-input"
    ]
   },
   "outputs": [],
   "source": [
    "import getBISy.data as data\n",
    "import getBISy.enums as enums\n",
    "\n",
    "s1 = data.get_global_liquidity_data(freq='Q',\n",
    "                               currency='TO1',\n",
    "                               borrowing_country=enums.Region.DevelopingAsiaAndPacific,\n",
    "                               borrowing_sector=enums.Sector.NonFinancialPrivateSector,\n",
    "                               lending_sector=enums.Sector.Banks,\n",
    "                               position_type= enums.PositionType.Local,\n",
    "                               instrument_type=enums.Instrument.Credit,\n",
    "                               unit_of_measure=enums.UnitOfMeasure.PercentageOfGDP\n",
    "                               )\n",
    "s2 = data.get_global_liquidity_data(freq='Q',\n",
    "                               currency='TO1',\n",
    "                               borrowing_country=enums.Region.EuroArea,\n",
    "                               borrowing_sector=enums.Sector.NonFinancialPrivateSector,\n",
    "                               lending_sector=enums.Sector.Banks,\n",
    "                               position_type= enums.PositionType.Local,\n",
    "                               instrument_type=enums.Instrument.Credit,\n",
    "                               unit_of_measure=enums.UnitOfMeasure.PercentageOfGDP\n",
    "                               )"
   ]
  },
  {
   "cell_type": "markdown",
   "id": "#VSC-e42803be-2",
   "metadata": {
    "language": "markdown"
   },
   "source": [
    "![DivergingPathsOfLocalBankCredit](LocalBankCredit_Paths.png)"
   ]
  },
  {
   "cell_type": "markdown",
   "id": "#VSC-2853f0ae",
   "metadata": {
    "language": "markdown"
   },
   "source": [
    "Meanwhile, the rise and subsequent stagnation of *cross-border bank lending* in Developed Europe following the GFC is well-known. And it was at this point that cross-border bank lending to Developing Asia began to rise, compensating at least partially for the decline in Europe.\n",
    "\n",
    "But, eyeballing the below chart, the Covid-19 pandemic might have marked a structural break in this trend. In the past 5 years, cross-border bank lending has steadily increased for Developed Europe, but decreased for Developing Asia."
   ]
  },
  {
   "cell_type": "code",
   "execution_count": null,
   "id": "code-3",
   "metadata": {
    "tags": [
     "hide-input"
    ]
   },
   "outputs": [],
   "source": [
    "s1 = data.get_locational_banking_data('Q',\n",
    "                                        enums.LbsMeasure.Stocks,\n",
    "                                        enums.Position.Claims,\n",
    "                                        enums.Instrument.LoansAndDeposits,\n",
    "                                        'USD',\n",
    "                                        enums.CurrencyType.All,\n",
    "                                        '5J',\n",
    "                                        enums.Institution.All,\n",
    "                                        '5A',\n",
    "                                        enums.Sector.NonBanks,\n",
    "                                        enums.Region.DevelopingAsiaAndPacific,\n",
    "                                        enums.PositionType.CrossBorder)\n",
    "s2 = data.get_locational_banking_data('Q',\n",
    "                                        enums.LbsMeasure.Stocks,\n",
    "                                        enums.Position.Claims,\n",
    "                                        enums.Instrument.LoansAndDeposits,\n",
    "                                        'USD',\n",
    "                                        enums.CurrencyType.All,\n",
    "                                        '5J',\n",
    "                                        enums.Institution.All,\n",
    "                                        '5A',\n",
    "                                        enums.Sector.NonBanks,\n",
    "                                        enums.Region.EuropeanDevelopedCountries,\n",
    "                                        enums.PositionType.CrossBorder)"
   ]
  },
  {
   "cell_type": "markdown",
   "id": "#VSC-2853f0ae-2",
   "metadata": {
    "language": "markdown"
   },
   "source": [
    "![Divergence in Cross-Border Credit](CrossBorderCredit_Paths.png)"
   ]
  },
  {
   "cell_type": "markdown",
   "id": "#VSC-510577a3",
   "metadata": {
    "language": "markdown"
   },
   "source": [
    "#### International Debt Issuance\n",
    "\n",
    "The international funding model in the post-GFC period - including for EMEs - has instead been characterised international debt issuance, particularly of USD-denominated debt."
   ]
  },
  {
   "cell_type": "code",
   "execution_count": null,
   "id": "code-4",
   "metadata": {
    "tags": [
     "hide-input"
    ]
   },
   "outputs": [],
   "source": [
    "all_countries_debt_securities = data.get_global_liquidity_data(\n",
    "    freq='Q',\n",
    "    currency='USD',\n",
    "    borrowing_country=enums.Region.AllCountries,\n",
    "    borrowing_sector=enums.Sector.NonBanks,\n",
    "    lending_sector=enums.Sector.LiquidityAllSectors,\n",
    "    position_type=enums.PositionType.CrossBorderAndLocal,\n",
    "    instrument_type=enums.Instrument.Debt,\n",
    "    unit_of_measure=enums.UnitOfMeasure.USD\n",
    ")\n",
    "\n",
    "emerging_markets_debt_securities = data.get_global_liquidity_data(\n",
    "    freq='Q',\n",
    "    currency='USD',\n",
    "    borrowing_country=enums.Region.EmergingAndDevelopingEconomies,\n",
    "    borrowing_sector=enums.Sector.NonBanks,\n",
    "    lending_sector=enums.Sector.LiquidityAllSectors,\n",
    "    position_type=enums.PositionType.CrossBorderAndLocal,\n",
    "    instrument_type=enums.Instrument.Debt,\n",
    "    unit_of_measure=enums.UnitOfMeasure.USD\n",
    ")"
   ]
  },
  {
   "cell_type": "markdown",
   "id": "#VSC-510577a3-2",
   "metadata": {
    "language": "markdown"
   },
   "source": [
    "![IncreasingdDebtIssuance](AllCountriesEME_IDS.png)"
   ]
  },
  {
   "cell_type": "markdown",
   "id": "#VSC-9144aaa9",
   "metadata": {
    "language": "markdown"
   },
   "source": [
    "As laid out in [BIS's most recent Quarterly Review](https://www.bis.org/publ/qtrpdf/r_qt2509e.htm) pointed out there is an important difference between the private and government sectors in relation to the currency composition of international debt issuance. Whilst the denomination of private sector debt in EMEs tends still to be USD denominated, governments have tended to issue local currency debt.\n",
    "\n",
    "And foreign holdings of this local currency government debt has remained firm, even as EME private sector has continued issuance of  USD-denominated debt. See the below chart from the BIS.\n",
    "\n",
    "![ForeignHoldingsOfEMEGovernmentBondsHaveHeldFirm](ForeignHoldingsOfEMEGovernmentBondsHaveHeldFirm.png)"
   ]
  },
  {
   "cell_type": "markdown",
   "id": "#VSC-2f65b693",
   "metadata": {
    "language": "markdown"
   },
   "source": [
    "What are the consequences of this transition? For the EME private sector, the song remains the same: to the extent that these liabilities might remain unhedged a currency mismatch on their balance-sheets, they reamin exposed to local currency depreciation.\n",
    "\n",
    "For EME governments who now increasingly have local-currency denominated liabilities, local currency depreciation would no longer lead to the vicious circle of depreciation precipitating foreign capital outflows, leading to  further depreciation. That is to say, progress has been made in overcoming the 'Original Sin' highlighted by Eichengreen & Hausmann in their [seminal 1999 paper](https://www.nber.org/papers/w7418).\n",
    "\n",
    "The negative consequences of exchange-rate depreciation has, however, now been shifted to creditors - posing a potential vicious circle from currency mismatch even for EME borrowers without foreign currency debt. Local currency depreciation manifests as mark-to-market losses on foreign lenders' balance-sheets, triggering selloffs and ex post hedging that further drives down local asset prices including the currency."
   ]
  },
  {
   "cell_type": "markdown",
   "id": "#VSC-f119cbc0",
   "metadata": {
    "language": "markdown"
   },
   "source": [
    "\n",
    "#### The *getBISy* Python package\n",
    "\n",
    "For researchers in international finance the [BIS Stats API](https://stats.bis.org/api-doc/v2/) is an excellent source of data, providing access to a trove of unique datasets on international financial statistics underpinning some of the most interesting papers on these topics. Until now, there's been no Python package providing an intuitive programmatic interface to the excellent international finance data provided in the [BIS Data Portal](https://data.bis.org/).\n",
    "\n",
    "[getBISy](https://pypi.org/project/getBISy/) allows researchers and developers to obtain BIS data through intuitive Python functions, rather than having to work out the GET requests, or manually download the datasets on the website.\n",
    "\n",
    "As of today, you can use the package to obtain data on 5 different topics in the Data Portal:\n",
    "- Policy Rates\n",
    "- Exchange Rates\n",
    "- Locational Banking Statistics\n",
    "- International Debt Securities\n",
    "- Global Liquidity\n",
    "\n",
    "Until next time,\n",
    "\n",
    "Matt\n"
   ]
  }
 ],
 "metadata": {
  "kernelspec": {
   "display_name": "Python 3",
   "language": "python",
   "name": "python3"
  },
  "language_info": {
   "name": "python",
   "version": ""
  }
 },
 "nbformat": 4,
 "nbformat_minor": 5
}
